{
 "cells": [
  {
   "cell_type": "code",
   "execution_count": 3,
   "id": "08512f87",
   "metadata": {},
   "outputs": [
    {
     "name": "stdout",
     "output_type": "stream",
     "text": [
      "   R&D Spend  Administration  Marketing Spend       State     Profit\n",
      "0  165349.20       136897.80        471784.10    New York  192261.83\n",
      "1  162597.70       151377.59        443898.53  California  191792.06\n",
      "2  153441.51       101145.55        407934.54     Florida  191050.39\n",
      "3  144372.41       118671.85        383199.62    New York  182901.99\n",
      "4  142107.34        91391.77        366168.42     Florida  166187.94\n"
     ]
    }
   ],
   "source": [
    "import pandas as pd\n",
    "data = pd.read_csv(r\"C:\\Rashid\\Project\\50_startups_sample (6).csv\", encoding = 'latin1')\n",
    "print(data)\n"
   ]
  },
  {
   "cell_type": "code",
   "execution_count": 10,
   "id": "05de63ce",
   "metadata": {},
   "outputs": [
    {
     "name": "stdout",
     "output_type": "stream",
     "text": [
      "Available locations in the dataset:\n",
      "['New York' 'California' 'Florida']\n",
      "\n",
      "Revenue data for New York:\n",
      "\n",
      "      State     Profit\n",
      "0  New York  192261.83\n",
      "3  New York  182901.99\n"
     ]
    }
   ],
   "source": [
    "# Print available states\n",
    "print(\"Available locations in the dataset:\")\n",
    "print(data['State'].unique())\n",
    "\n",
    "# Ask for user input\n",
    "user_location = input(\"Enter a location from the list above to view its revenue: \")\n",
    "\n",
    "# Filter data for that location\n",
    "filtered_data = data[data['State'].str.lower() == user_location.strip().lower()]\n",
    "\n",
    "# Check and print results\n",
    "if not filtered_data.empty:\n",
    "    print(f\"\\nRevenue data for {user_location}:\\n\")\n",
    "    print(filtered_data[['State', 'Profit']])\n",
    "else:\n",
    "    print(f\"\\nNo data found for location: {user_location}\")\n"
   ]
  },
  {
   "cell_type": "code",
   "execution_count": 13,
   "id": "fcc974d0",
   "metadata": {},
   "outputs": [
    {
     "name": "stdout",
     "output_type": "stream",
     "text": [
      "   R&D Spend  Administration  Marketing Spend       State     Profit\n",
      "0  165349.20       136897.80        471784.10    New York  192261.83\n",
      "1  162597.70       151377.59        443898.53  California  191792.06\n",
      "2  153441.51       101145.55        407934.54     Florida  191050.39\n",
      "3  144372.41       118671.85        383199.62    New York  182901.99\n",
      "4  142107.34        91391.77        366168.42     Florida  166187.94\n",
      "\n",
      " Model trained successfully\n",
      "R² Score: nan\n",
      "\n",
      "--- Startup Profit Prediction ---\n"
     ]
    },
    {
     "name": "stderr",
     "output_type": "stream",
     "text": [
      "c:\\Users\\user\\AppData\\Local\\Programs\\Python\\Python313\\Lib\\site-packages\\sklearn\\metrics\\_regression.py:1283: UndefinedMetricWarning: R^2 score is not well-defined with less than two samples.\n",
      "  warnings.warn(msg, UndefinedMetricWarning)\n"
     ]
    },
    {
     "name": "stdout",
     "output_type": "stream",
     "text": [
      "\n",
      "Predicted Profit: $178,619.17\n"
     ]
    }
   ],
   "source": [
    "import pandas as pd\n",
    "from sklearn.model_selection import train_test_split\n",
    "from sklearn.linear_model import LinearRegression\n",
    "from sklearn.preprocessing import OneHotEncoder\n",
    "from sklearn.compose import ColumnTransformer\n",
    "from sklearn.metrics import r2_score\n",
    "\n",
    "# 1. Load dataset\n",
    "df = pd.read_csv(r\"C:\\Rashid\\Project\\50_startups_sample (6).csv\")  # use full dataset if available\n",
    "print(df.head())\n",
    "\n",
    "# 2. Features & Target\n",
    "X = df[[\"R&D Spend\", \"Administration\", \"Marketing Spend\", \"State\"]]\n",
    "y = df[\"Profit\"]\n",
    "\n",
    "# One-hot encode categorical \"State\"\n",
    "ct = ColumnTransformer(\n",
    "    transformers=[(\"encoder\", OneHotEncoder(), [\"State\"])],\n",
    ")\n",
    "X = ct.fit_transform(X)\n",
    "\n",
    "# 3. Train-test split\n",
    "X_train, X_test, y_train, y_test = train_test_split(\n",
    "    X, y, test_size=0.2, random_state=42\n",
    ")\n",
    "\n",
    "# 4. Train Linear Regression\n",
    "model = LinearRegression()\n",
    "model.fit(X_train, y_train)\n",
    "\n",
    "# 5. Evaluate\n",
    "y_pred = model.predict(X_test)\n",
    "print(\"\\n Model trained successfully\")\n",
    "print(\"R² Score:\", r2_score(y_test, y_pred))\n",
    "\n",
    "\n",
    "# 6. User Input Prediction\n",
    "print(\"\\n--- Startup Profit Prediction ---\")\n",
    "rd = float(input(\"Enter R&D Spend: \"))\n",
    "admin = float(input(\"Enter Administration Spend: \"))\n",
    "marketing = float(input(\"Enter Marketing Spend: \"))\n",
    "state = input(\"Enter State (New York/California/Florida): \")\n",
    "\n",
    "# Prepare user input\n",
    "user_df = pd.DataFrame([[rd, admin, marketing, state]],\n",
    "                       columns=[\"R&D Spend\", \"Administration\", \"Marketing Spend\", \"State\"])\n",
    "user_X = ct.transform(user_df)\n",
    "\n",
    "# Prediction\n",
    "predicted_profit = model.predict(user_X)[0]\n",
    "print(f\"\\nPredicted Profit: ${predicted_profit:,.2f}\")"
   ]
  }
 ],
 "metadata": {
  "kernelspec": {
   "display_name": "Python 3",
   "language": "python",
   "name": "python3"
  },
  "language_info": {
   "codemirror_mode": {
    "name": "ipython",
    "version": 3
   },
   "file_extension": ".py",
   "mimetype": "text/x-python",
   "name": "python",
   "nbconvert_exporter": "python",
   "pygments_lexer": "ipython3",
   "version": "3.13.7"
  }
 },
 "nbformat": 4,
 "nbformat_minor": 5
}
