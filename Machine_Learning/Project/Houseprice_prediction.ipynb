{
 "cells": [
  {
   "cell_type": "code",
   "execution_count": null,
   "id": "5623bfd7",
   "metadata": {},
   "outputs": [
    {
     "name": "stdout",
     "output_type": "stream",
     "text": [
      "Model RMSE: 892789.86\n",
      "\n",
      "Available cities: Shoreline, Seattle, Kent, Bellevue, Redmond, Maple Valley, North Bend, Lake Forest Park, Sammamish, Auburn, Des Moines, Bothell, Federal Way, Kirkland, Issaquah, Woodinville, Normandy Park, Fall City, Renton, Carnation, Snoqualmie, Duvall, Burien, Covington, Inglewood-Finn Hill, Kenmore, Newcastle, Mercer Island, Black Diamond, Ravensdale, Clyde Hill, Algona, Skykomish, Tukwila, Vashon, Yarrow Point, SeaTac, Medina, Enumclaw, Snoqualmie Pass, Pacific, Beaux Arts Village, Preston, Milton\n",
      "\n",
      "Predicted House Price: $ 3312251.85\n"
     ]
    }
   ],
   "source": [
    "import pandas as pd\n",
    "from sklearn.linear_model import LinearRegression\n",
    "from sklearn.model_selection import train_test_split\n",
    "from sklearn.metrics import mean_squared_error\n",
    "import numpy as np\n",
    "\n",
    "df = pd.read_csv(r\"C:\\Users\\user\\Desktop\\Exam 2025\\PART A\\house price.csv\")\n",
    "\n",
    "X = df[['sqft_living', 'bedrooms', 'bathrooms']]\n",
    "X = pd.concat([X, pd.get_dummies(df['city'], drop_first=True)], axis=1)\n",
    "y = df['price']\n",
    "\n",
    "X_train, X_test, y_train, y_test = train_test_split(X, y, random_state=42)\n",
    "\n",
    "model = LinearRegression()\n",
    "model.fit(X_train, y_train)\n",
    "\n",
    "y_pred = model.predict(X_test)\n",
    "rmse = np.sqrt(mean_squared_error(y_test, y_pred))\n",
    "print(\"Model RMSE:\", round(rmse, 2))\n",
    "\n",
    "cities = df['city'].unique()\n",
    "print(\"\\nAvailable cities:\", ', '.join(cities))\n",
    "\n",
    "sqft = float(input(\"Enter living area in sqft: \"))\n",
    "bedrooms = int(input(\"Enter number of bedrooms: \"))\n",
    "bathrooms = float(input(\"Enter number of bathrooms: \"))\n",
    "city = input(\"Enter city name (as shown above): \")\n",
    "\n",
    "user_input = pd.DataFrame({\n",
    "    'sqft_living': [sqft],\n",
    "    'bedrooms': [bedrooms],\n",
    "    'bathrooms': [bathrooms]\n",
    "})\n",
    "\n",
    "user_city_dummies = pd.get_dummies(pd.Series([city]), prefix='city')\n",
    "user_input = pd.concat([user_input, user_city_dummies], axis=1)\n",
    "\n",
    "for col in X.columns:\n",
    "    if col not in user_input.columns:\n",
    "        user_input[col] = 0  \n",
    "\n",
    "user_input = user_input[X.columns]\n",
    "\n",
    "predicted_price = model.predict(user_input)\n",
    "print(\"\\nPredicted House Price: $\", round(predicted_price[0], 2))"
   ]
  }
 ],
 "metadata": {
  "kernelspec": {
   "display_name": "Python 3",
   "language": "python",
   "name": "python3"
  },
  "language_info": {
   "codemirror_mode": {
    "name": "ipython",
    "version": 3
   },
   "file_extension": ".py",
   "mimetype": "text/x-python",
   "name": "python",
   "nbconvert_exporter": "python",
   "pygments_lexer": "ipython3",
   "version": "3.13.7"
  }
 },
 "nbformat": 4,
 "nbformat_minor": 5
}
