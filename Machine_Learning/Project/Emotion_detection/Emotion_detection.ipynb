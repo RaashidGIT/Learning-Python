{
 "cells": [
  {
   "cell_type": "code",
   "execution_count": 5,
   "id": "ae1e887b",
   "metadata": {},
   "outputs": [
    {
     "name": "stdout",
     "output_type": "stream",
     "text": [
      "                                            sentence  emotion\n",
      "0                            i didnt feel humiliated  sadness\n",
      "1  i can go from feeling so hopeless to so damned...  sadness\n",
      "2   im grabbing a minute to post i feel greedy wrong    anger\n",
      "3  i am ever feeling nostalgic about the fireplac...     love\n",
      "4                               i am feeling grouchy    anger\n",
      "              precision    recall  f1-score   support\n",
      "\n",
      "       anger       0.90      0.78      0.84       432\n",
      "        fear       0.87      0.80      0.84       387\n",
      "         joy       0.82      0.94      0.88      1072\n",
      "        love       0.86      0.64      0.73       261\n",
      "     sadness       0.89      0.93      0.91       933\n",
      "    surprise       0.91      0.56      0.69       115\n",
      "\n",
      "    accuracy                           0.86      3200\n",
      "   macro avg       0.88      0.78      0.81      3200\n",
      "weighted avg       0.86      0.86      0.86      3200\n",
      "\n",
      "\n",
      "Emotion Detector ready! Type 'exit' to quit.\n",
      "Detected emotion: joy\n",
      "Detected emotion: anger\n",
      "Detected emotion: joy\n",
      "Detected emotion: sadness\n",
      "Detected emotion: joy\n",
      "Goodbye!\n"
     ]
    }
   ],
   "source": [
    "import pandas as pd\n",
    "from sklearn.model_selection import train_test_split\n",
    "from sklearn.feature_extraction.text import TfidfVectorizer\n",
    "from sklearn.linear_model import LogisticRegression\n",
    "from sklearn.metrics import classification_report\n",
    "\n",
    "# Load dataset\n",
    "# Make sure your file path is correct, and file is in the format: sentence;emotion per line\n",
    "df = pd.read_csv(r'C:\\Rashid\\Project\\Emotion_detection\\dataset\\train.txt', \n",
    "                 sep=';', \n",
    "                 header=None,   # No header in file\n",
    "                 names=['sentence', 'emotion'])  # Assign column names explicitly\n",
    "\n",
    "# Check loaded data\n",
    "print(df.head())\n",
    "\n",
    "# Drop any rows with missing values (if any)\n",
    "df = df.dropna(subset=['sentence', 'emotion'])\n",
    "\n",
    "# Split data into train and test sets (stratify to keep label distribution)\n",
    "X_train, X_test, y_train, y_test = train_test_split(\n",
    "    df['sentence'], df['emotion'], test_size=0.2, random_state=42, stratify=df['emotion'])\n",
    "\n",
    "# Vectorize sentences using TF-IDF\n",
    "vectorizer = TfidfVectorizer(max_features=10000, stop_words='english')\n",
    "X_train_vec = vectorizer.fit_transform(X_train)\n",
    "X_test_vec = vectorizer.transform(X_test)\n",
    "\n",
    "# Train logistic regression model\n",
    "model = LogisticRegression(max_iter=200)\n",
    "model.fit(X_train_vec, y_train)\n",
    "\n",
    "# Evaluate on test set\n",
    "y_pred = model.predict(X_test_vec)\n",
    "print(classification_report(y_test, y_pred))\n",
    "\n",
    "# Prediction function for new input\n",
    "def predict_emotion(text):\n",
    "    text_vec = vectorizer.transform([text])\n",
    "    return model.predict(text_vec)[0]\n",
    "\n",
    "print(\"\\nEmotion Detector ready! Type 'exit' to quit.\")\n",
    "\n",
    "while True:\n",
    "    user_input = input(\"Enter your sentence: \")\n",
    "    if user_input.lower() == 'exit':\n",
    "        print(\"Goodbye!\")\n",
    "        break\n",
    "    emotion = predict_emotion(user_input)\n",
    "    print(f\"Detected emotion: {emotion}\")\n"
   ]
  }
 ],
 "metadata": {
  "kernelspec": {
   "display_name": "Python 3",
   "language": "python",
   "name": "python3"
  },
  "language_info": {
   "codemirror_mode": {
    "name": "ipython",
    "version": 3
   },
   "file_extension": ".py",
   "mimetype": "text/x-python",
   "name": "python",
   "nbconvert_exporter": "python",
   "pygments_lexer": "ipython3",
   "version": "3.13.7"
  }
 },
 "nbformat": 4,
 "nbformat_minor": 5
}
