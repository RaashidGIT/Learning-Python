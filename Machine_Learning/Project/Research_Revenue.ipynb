{
 "cells": [
  {
   "cell_type": "code",
   "execution_count": 2,
   "id": "08512f87",
   "metadata": {},
   "outputs": [
    {
     "name": "stdout",
     "output_type": "stream",
     "text": [
      "   R&D Spend  Administration  Marketing Spend       State     Profit\n",
      "0  165349.20       136897.80        471784.10    New York  192261.83\n",
      "1  162597.70       151377.59        443898.53  California  191792.06\n",
      "2  153441.51       101145.55        407934.54     Florida  191050.39\n",
      "3  144372.41       118671.85        383199.62    New York  182901.99\n",
      "4  142107.34        91391.77        366168.42     Florida  166187.94\n"
     ]
    }
   ],
   "source": [
    "import pandas as pd\n",
    "data = pd.read_csv(r\"C:\\Rashid\\Project\\50_startups_sample (6).csv\", encoding = 'latin1')\n",
    "print(data)\n"
   ]
  },
  {
   "cell_type": "code",
   "execution_count": 3,
   "id": "05de63ce",
   "metadata": {},
   "outputs": [
    {
     "name": "stdout",
     "output_type": "stream",
     "text": [
      "Available locations in the dataset:\n",
      "['New York' 'California' 'Florida']\n",
      "\n",
      "Revenue data for New York:\n",
      "\n",
      "      State     Profit\n",
      "0  New York  192261.83\n",
      "3  New York  182901.99\n"
     ]
    }
   ],
   "source": [
    "# Print available states\n",
    "print(\"Available locations in the dataset:\")\n",
    "print(data['State'].unique())\n",
    "\n",
    "# Ask for user input\n",
    "user_location = input(\"Enter a location from the list above to view its revenue: \")\n",
    "\n",
    "# Filter data for that location\n",
    "filtered_data = data[data['State'].str.lower() == user_location.strip().lower()]\n",
    "\n",
    "# Check and print results\n",
    "if not filtered_data.empty:\n",
    "    print(f\"\\nRevenue data for {user_location}:\\n\")\n",
    "    print(filtered_data[['State', 'Profit']])\n",
    "else:\n",
    "    print(f\"\\nNo data found for location: {user_location}\")\n"
   ]
  }
 ],
 "metadata": {
  "kernelspec": {
   "display_name": "Python 3",
   "language": "python",
   "name": "python3"
  },
  "language_info": {
   "codemirror_mode": {
    "name": "ipython",
    "version": 3
   },
   "file_extension": ".py",
   "mimetype": "text/x-python",
   "name": "python",
   "nbconvert_exporter": "python",
   "pygments_lexer": "ipython3",
   "version": "3.13.7"
  }
 },
 "nbformat": 4,
 "nbformat_minor": 5
}
