{
 "cells": [
  {
   "cell_type": "code",
   "execution_count": 1,
   "id": "013e0de7",
   "metadata": {},
   "outputs": [
    {
     "name": "stdout",
     "output_type": "stream",
     "text": [
      "Intercept (base price): 78000.00000000006\n",
      "Slope (price per sqft): 149.99999999999994\n",
      "Predicted price for 1100 sqft = $243000.00\n"
     ]
    }
   ],
   "source": [
    "import numpy as np\n",
    "import pandas as pd\n",
    "import matplotlib.pyplot as plt\n",
    "from sklearn.linear_model import LinearRegression\n",
    "\n",
    "# Dataset: house size (X) → house price (y)\n",
    "X = np.array([500, 800, 1000, 1200, 1500]).reshape(-1,1)  # sqft\n",
    "y = np.array([150000, 200000, 230000, 260000, 300000])    # price in $\n",
    "\n",
    "model = LinearRegression()\n",
    "model.fit(X, y)\n",
    "\n",
    "# 2. Model parameters\n",
    "print(\"Intercept (base price):\", model.intercept_)\n",
    "print(\"Slope (price per sqft):\", model.coef_[0])\n",
    "\n",
    "size = 1100\n",
    "predicted_price = model.predict([[size]])\n",
    "print(f\"Predicted price for {size} sqft = ${predicted_price[0]:.2f}\")"
   ]
  },
  {
   "cell_type": "code",
   "execution_count": 5,
   "id": "a51b0bef",
   "metadata": {},
   "outputs": [
    {
     "name": "stdout",
     "output_type": "stream",
     "text": [
      "Predicted price for 500 sqft = $153000.00\n"
     ]
    }
   ],
   "source": [
    "size = 500\n",
    "predicted_price = model.predict([[size]])\n",
    "print(f\"Predicted price for {size} sqft = ${predicted_price[0]:.2f}\")"
   ]
  }
 ],
 "metadata": {
  "kernelspec": {
   "display_name": "Python 3",
   "language": "python",
   "name": "python3"
  },
  "language_info": {
   "codemirror_mode": {
    "name": "ipython",
    "version": 3
   },
   "file_extension": ".py",
   "mimetype": "text/x-python",
   "name": "python",
   "nbconvert_exporter": "python",
   "pygments_lexer": "ipython3",
   "version": "3.13.7"
  }
 },
 "nbformat": 4,
 "nbformat_minor": 5
}
