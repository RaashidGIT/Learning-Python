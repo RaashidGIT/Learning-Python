{
 "cells": [
  {
   "cell_type": "code",
   "execution_count": 9,
   "id": "af35786d",
   "metadata": {},
   "outputs": [
    {
     "name": "stdout",
     "output_type": "stream",
     "text": [
      "ORDERNUMBER            0\n",
      "QUANTITYORDERED        0\n",
      "PRICEEACH              0\n",
      "ORDERLINENUMBER        0\n",
      "SALES                  0\n",
      "ORDERDATE            195\n",
      "STATUS                 7\n",
      "QTR_ID                 7\n",
      "MONTH_ID               7\n",
      "YEAR_ID               54\n",
      "PRODUCTLINE          196\n",
      "MSRP                  60\n",
      "PRODUCTCODE            7\n",
      "CUSTOMERNAME          46\n",
      "PHONE                 93\n",
      "ADDRESSLINE1         242\n",
      "ADDRESSLINE2        2545\n",
      "CITY                   7\n",
      "STATE               1491\n",
      "POSTALCODE            83\n",
      "COUNTRY                7\n",
      "TERRITORY           1078\n",
      "CONTACTLASTNAME        7\n",
      "CONTACTFIRSTNAME       7\n",
      "DEALSIZE             168\n",
      "dtype: int64\n"
     ]
    }
   ],
   "source": [
    "import pandas as pd\n",
    "data = pd.read_csv(r\"C:\\Users\\user\\Documents\\MISSING_DATASET_HANDLING.csv\", encoding = 'latin1')\n",
    "print(data.isnull().sum())"
   ]
  },
  {
   "cell_type": "code",
   "execution_count": 18,
   "id": "7cc8630d",
   "metadata": {},
   "outputs": [
    {
     "name": "stdout",
     "output_type": "stream",
     "text": [
      "ORDERNUMBER            0\n",
      "QUANTITYORDERED        0\n",
      "PRICEEACH              0\n",
      "ORDERLINENUMBER        0\n",
      "SALES                  0\n",
      "ORDERDATE            195\n",
      "STATUS                 7\n",
      "QTR_ID                 7\n",
      "MONTH_ID               0\n",
      "YEAR_ID               54\n",
      "PRODUCTLINE          196\n",
      "MSRP                  60\n",
      "PRODUCTCODE            7\n",
      "CUSTOMERNAME          46\n",
      "PHONE                  0\n",
      "ADDRESSLINE1         242\n",
      "CITY                   7\n",
      "STATE               1491\n",
      "POSTALCODE            83\n",
      "COUNTRY                7\n",
      "TERRITORY           1078\n",
      "CONTACTLASTNAME        7\n",
      "CONTACTFIRSTNAME       7\n",
      "DEALSIZE             168\n",
      "dtype: int64\n"
     ]
    }
   ],
   "source": [
    "data = data.drop(columns=[\"ADDRESSLINE2\"]) # drops the column named ADDRESSLINE2\n",
    "print(data.isnull().sum())"
   ]
  },
  {
   "cell_type": "code",
   "execution_count": 19,
   "id": "3aeae98b",
   "metadata": {},
   "outputs": [
    {
     "name": "stdout",
     "output_type": "stream",
     "text": [
      "ORDERNUMBER            0\n",
      "QUANTITYORDERED        0\n",
      "PRICEEACH              0\n",
      "ORDERLINENUMBER        0\n",
      "SALES                  0\n",
      "ORDERDATE              0\n",
      "STATUS                 0\n",
      "QTR_ID                 0\n",
      "MONTH_ID               0\n",
      "YEAR_ID                0\n",
      "PRODUCTLINE            0\n",
      "MSRP                   0\n",
      "PRODUCTCODE            0\n",
      "CUSTOMERNAME           0\n",
      "PHONE                  0\n",
      "ADDRESSLINE1          48\n",
      "CITY                   0\n",
      "STATE               1352\n",
      "POSTALCODE            66\n",
      "COUNTRY                0\n",
      "TERRITORY            964\n",
      "CONTACTLASTNAME        0\n",
      "CONTACTFIRSTNAME       0\n",
      "DEALSIZE               0\n",
      "dtype: int64\n"
     ]
    }
   ],
   "source": [
    "data = data.dropna(subset = [\"ORDERDATE\", \"PRODUCTLINE\"]) # deletes the row with missing value\n",
    "print(data.isnull().sum())"
   ]
  },
  {
   "cell_type": "code",
   "execution_count": 20,
   "id": "f05eb76a",
   "metadata": {},
   "outputs": [
    {
     "name": "stdout",
     "output_type": "stream",
     "text": [
      "ORDERNUMBER            0\n",
      "QUANTITYORDERED        0\n",
      "PRICEEACH              0\n",
      "ORDERLINENUMBER        0\n",
      "SALES                  0\n",
      "ORDERDATE              0\n",
      "STATUS                 0\n",
      "QTR_ID                 0\n",
      "MONTH_ID               0\n",
      "YEAR_ID                0\n",
      "PRODUCTLINE            0\n",
      "MSRP                   0\n",
      "PRODUCTCODE            0\n",
      "CUSTOMERNAME           0\n",
      "PHONE                  0\n",
      "ADDRESSLINE1          48\n",
      "CITY                   0\n",
      "STATE               1352\n",
      "POSTALCODE            66\n",
      "COUNTRY                0\n",
      "TERRITORY            964\n",
      "CONTACTLASTNAME        0\n",
      "CONTACTFIRSTNAME       0\n",
      "DEALSIZE               0\n",
      "dtype: int64\n"
     ]
    }
   ],
   "source": [
    "data[\"MONTH_ID\"] = data[\"MONTH_ID\"].fillna(data[\"MONTH_ID\"].median())\n",
    "data[\"PHONE\"] = data[\"PHONE\"].fillna(data[\"PHONE\"].mode()[0]) # fills missing value (Imputation)\n",
    "print(data.isnull().sum())"
   ]
  },
  {
   "cell_type": "code",
   "execution_count": 22,
   "id": "7a2c7dfb",
   "metadata": {},
   "outputs": [
    {
     "name": "stdout",
     "output_type": "stream",
     "text": [
      "ORDERNUMBER            0\n",
      "QUANTITYORDERED        0\n",
      "PRICEEACH              0\n",
      "ORDERLINENUMBER        0\n",
      "SALES                  0\n",
      "ORDERDATE              0\n",
      "STATUS                 0\n",
      "QTR_ID                 0\n",
      "MONTH_ID               0\n",
      "YEAR_ID                0\n",
      "PRODUCTLINE            0\n",
      "MSRP                   0\n",
      "PRODUCTCODE            0\n",
      "CUSTOMERNAME           0\n",
      "PHONE                  0\n",
      "ADDRESSLINE1          48\n",
      "CITY                   0\n",
      "STATE               1352\n",
      "POSTALCODE            66\n",
      "COUNTRY                0\n",
      "TERRITORY            964\n",
      "CONTACTLASTNAME        0\n",
      "CONTACTFIRSTNAME       0\n",
      "DEALSIZE               0\n",
      "dtype: int64\n"
     ]
    }
   ],
   "source": [
    "data[\"STATUS\"].fillna(data[\"STATUS\"].mode()[0], inplace=True) # fills with \"Unknown\"\n",
    "print(data.isnull().sum())"
   ]
  }
 ],
 "metadata": {
  "kernelspec": {
   "display_name": "Python 3",
   "language": "python",
   "name": "python3"
  },
  "language_info": {
   "codemirror_mode": {
    "name": "ipython",
    "version": 3
   },
   "file_extension": ".py",
   "mimetype": "text/x-python",
   "name": "python",
   "nbconvert_exporter": "python",
   "pygments_lexer": "ipython3",
   "version": "3.13.7"
  }
 },
 "nbformat": 4,
 "nbformat_minor": 5
}
