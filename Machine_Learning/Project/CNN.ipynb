{
 "cells": [
  {
   "cell_type": "code",
   "execution_count": null,
   "id": "dbb426b9",
   "metadata": {},
   "outputs": [],
   "source": [
    "#  1. Import libraries\n",
    "import tensorflow as tf             #  pip install tensorflow\n",
    "from tensorflow.keras import layers, models\n",
    "import matplotlib.pyplot as plt"
   ]
  },
  {
   "cell_type": "code",
   "execution_count": null,
   "id": "2117e134",
   "metadata": {},
   "outputs": [],
   "source": [
    "#  2. Load dataset (MNIST is built-in)\n",
    "(X_train, y_train), (X_test, y_test) = tf.keras.datasets.mnist.load_data()"
   ]
  },
  {
   "cell_type": "code",
   "execution_count": null,
   "id": "f916f1ef",
   "metadata": {},
   "outputs": [],
   "source": [
    "#  3. Normalize data (scale pixel values to 0-1)\n",
    "X_train = X_train.astype(\"float32\") / 255.0\n",
    "X_train = X_test.astype(\"float32\") / 255.0"
   ]
  },
  {
   "cell_type": "code",
   "execution_count": null,
   "id": "2ca40a97",
   "metadata": {},
   "outputs": [],
   "source": [
    "#  4. Reshape data (CNN expects 3D: height, width, channels)\n",
    "X_train = X_train.reshape(-1, 28, 28, 1)\n",
    "X_test = X_test.reshape(-1, 28, 28, 1)\n",
    "# - 1 means \"figure this dimension out automatically\".\n",
    "#1 is the number of channels"
   ]
  }
 ],
 "metadata": {
  "kernelspec": {
   "display_name": "Python 3",
   "language": "python",
   "name": "python3"
  },
  "language_info": {
   "codemirror_mode": {
    "name": "ipython",
    "version": 3
   },
   "file_extension": ".py",
   "mimetype": "text/x-python",
   "name": "python",
   "nbconvert_exporter": "python",
   "pygments_lexer": "ipython3",
   "version": "3.13.7"
  }
 },
 "nbformat": 4,
 "nbformat_minor": 5
}
